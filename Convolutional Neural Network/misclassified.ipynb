{
 "cells": [
  {
   "cell_type": "code",
   "execution_count": 1,
   "metadata": {
    "collapsed": false
   },
   "outputs": [],
   "source": [
    "import csv\n",
    "\n",
    "misclassified = []\n",
    "\n",
    "with open('misclassified.ssv', newline='') as csvfile:\n",
    "    spamreader = csv.reader(csvfile, delimiter=' ', quotechar='|')\n",
    "    for row in spamreader:\n",
    "        misclassified.append(row[0])"
   ]
  },
  {
   "cell_type": "code",
   "execution_count": 2,
   "metadata": {
    "collapsed": false
   },
   "outputs": [
    {
     "data": {
      "text/plain": [
       "['tf_files/tiny_imagenet/24/3147.jpg',\n",
       " 'tf_files/tiny_imagenet/24/23693.jpg',\n",
       " 'tf_files/tiny_imagenet/24/26241.jpg',\n",
       " 'tf_files/tiny_imagenet/24/24159.jpg',\n",
       " 'tf_files/tiny_imagenet/25/16122.jpg',\n",
       " 'tf_files/tiny_imagenet/25/11210.jpg',\n",
       " 'tf_files/tiny_imagenet/25/7598.jpg',\n",
       " 'tf_files/tiny_imagenet/26/1143.jpg',\n",
       " 'tf_files/tiny_imagenet/26/4815.jpg',\n",
       " 'tf_files/tiny_imagenet/27/5700.jpg',\n",
       " 'tf_files/tiny_imagenet/27/20624.jpg',\n",
       " 'tf_files/tiny_imagenet/20/7566.jpg',\n",
       " 'tf_files/tiny_imagenet/20/20675.jpg',\n",
       " 'tf_files/tiny_imagenet/20/12177.jpg',\n",
       " 'tf_files/tiny_imagenet/20/15168.jpg',\n",
       " 'tf_files/tiny_imagenet/20/24171.jpg',\n",
       " 'tf_files/tiny_imagenet/20/3420.jpg',\n",
       " 'tf_files/tiny_imagenet/20/24274.jpg',\n",
       " 'tf_files/tiny_imagenet/20/15370.jpg',\n",
       " 'tf_files/tiny_imagenet/21/11645.jpg',\n",
       " 'tf_files/tiny_imagenet/21/17439.jpg',\n",
       " 'tf_files/tiny_imagenet/21/1061.jpg',\n",
       " 'tf_files/tiny_imagenet/21/17739.jpg',\n",
       " 'tf_files/tiny_imagenet/21/8859.jpg',\n",
       " 'tf_files/tiny_imagenet/21/5304.jpg',\n",
       " 'tf_files/tiny_imagenet/21/10522.jpg',\n",
       " 'tf_files/tiny_imagenet/22/12447.jpg',\n",
       " 'tf_files/tiny_imagenet/22/13389.jpg',\n",
       " 'tf_files/tiny_imagenet/22/2471.jpg',\n",
       " 'tf_files/tiny_imagenet/22/7861.jpg',\n",
       " 'tf_files/tiny_imagenet/22/20044.jpg',\n",
       " 'tf_files/tiny_imagenet/23/20662.jpg',\n",
       " 'tf_files/tiny_imagenet/23/9439.jpg',\n",
       " 'tf_files/tiny_imagenet/23/13426.jpg',\n",
       " 'tf_files/tiny_imagenet/23/23403.jpg',\n",
       " 'tf_files/tiny_imagenet/23/7955.jpg',\n",
       " 'tf_files/tiny_imagenet/23/13723.jpg',\n",
       " 'tf_files/tiny_imagenet/23/25262.jpg',\n",
       " 'tf_files/tiny_imagenet/23/20225.jpg',\n",
       " 'tf_files/tiny_imagenet/28/12130.jpg',\n",
       " 'tf_files/tiny_imagenet/28/14600.jpg',\n",
       " 'tf_files/tiny_imagenet/28/21943.jpg',\n",
       " 'tf_files/tiny_imagenet/28/8410.jpg',\n",
       " 'tf_files/tiny_imagenet/29/10371.jpg',\n",
       " 'tf_files/tiny_imagenet/29/4249.jpg',\n",
       " 'tf_files/tiny_imagenet/1/25087.jpg',\n",
       " 'tf_files/tiny_imagenet/1/6739.jpg',\n",
       " 'tf_files/tiny_imagenet/1/10617.jpg',\n",
       " 'tf_files/tiny_imagenet/1/8270.jpg',\n",
       " 'tf_files/tiny_imagenet/1/13612.jpg',\n",
       " 'tf_files/tiny_imagenet/1/8884.jpg',\n",
       " 'tf_files/tiny_imagenet/1/14874.jpg',\n",
       " 'tf_files/tiny_imagenet/1/14228.jpg',\n",
       " 'tf_files/tiny_imagenet/1/23958.jpg',\n",
       " 'tf_files/tiny_imagenet/1/7161.jpg',\n",
       " 'tf_files/tiny_imagenet/1/22848.jpg',\n",
       " 'tf_files/tiny_imagenet/1/3876.jpg',\n",
       " 'tf_files/tiny_imagenet/1/23089.jpg',\n",
       " 'tf_files/tiny_imagenet/1/1047.jpg',\n",
       " 'tf_files/tiny_imagenet/1/135.jpg',\n",
       " 'tf_files/tiny_imagenet/1/4165.jpg',\n",
       " 'tf_files/tiny_imagenet/1/8697.jpg',\n",
       " 'tf_files/tiny_imagenet/0/24486.jpg',\n",
       " 'tf_files/tiny_imagenet/0/5704.jpg',\n",
       " 'tf_files/tiny_imagenet/0/8489.jpg',\n",
       " 'tf_files/tiny_imagenet/0/3076.jpg',\n",
       " 'tf_files/tiny_imagenet/0/17980.jpg',\n",
       " 'tf_files/tiny_imagenet/0/1284.jpg',\n",
       " 'tf_files/tiny_imagenet/0/22537.jpg',\n",
       " 'tf_files/tiny_imagenet/0/23851.jpg',\n",
       " 'tf_files/tiny_imagenet/0/25928.jpg',\n",
       " 'tf_files/tiny_imagenet/0/1952.jpg',\n",
       " 'tf_files/tiny_imagenet/0/2265.jpg',\n",
       " 'tf_files/tiny_imagenet/0/5647.jpg',\n",
       " 'tf_files/tiny_imagenet/0/5856.jpg',\n",
       " 'tf_files/tiny_imagenet/0/24938.jpg',\n",
       " 'tf_files/tiny_imagenet/0/20720.jpg',\n",
       " 'tf_files/tiny_imagenet/0/3789.jpg',\n",
       " 'tf_files/tiny_imagenet/0/16497.jpg',\n",
       " 'tf_files/tiny_imagenet/0/25738.jpg',\n",
       " 'tf_files/tiny_imagenet/0/12780.jpg',\n",
       " 'tf_files/tiny_imagenet/0/24225.jpg',\n",
       " 'tf_files/tiny_imagenet/0/8474.jpg',\n",
       " 'tf_files/tiny_imagenet/0/24815.jpg',\n",
       " 'tf_files/tiny_imagenet/0/6710.jpg',\n",
       " 'tf_files/tiny_imagenet/0/23425.jpg',\n",
       " 'tf_files/tiny_imagenet/0/21597.jpg',\n",
       " 'tf_files/tiny_imagenet/0/23965.jpg',\n",
       " 'tf_files/tiny_imagenet/0/281.jpg',\n",
       " 'tf_files/tiny_imagenet/0/6333.jpg',\n",
       " 'tf_files/tiny_imagenet/0/3476.jpg',\n",
       " 'tf_files/tiny_imagenet/0/4899.jpg',\n",
       " 'tf_files/tiny_imagenet/0/3101.jpg',\n",
       " 'tf_files/tiny_imagenet/0/1549.jpg',\n",
       " 'tf_files/tiny_imagenet/0/2705.jpg',\n",
       " 'tf_files/tiny_imagenet/0/7420.jpg',\n",
       " 'tf_files/tiny_imagenet/0/5325.jpg',\n",
       " 'tf_files/tiny_imagenet/0/23034.jpg',\n",
       " 'tf_files/tiny_imagenet/0/3005.jpg',\n",
       " 'tf_files/tiny_imagenet/0/17470.jpg',\n",
       " 'tf_files/tiny_imagenet/0/2957.jpg',\n",
       " 'tf_files/tiny_imagenet/0/25567.jpg',\n",
       " 'tf_files/tiny_imagenet/0/10739.jpg',\n",
       " 'tf_files/tiny_imagenet/0/3705.jpg',\n",
       " 'tf_files/tiny_imagenet/0/21819.jpg',\n",
       " 'tf_files/tiny_imagenet/0/7488.jpg',\n",
       " 'tf_files/tiny_imagenet/0/23194.jpg',\n",
       " 'tf_files/tiny_imagenet/3/9698.jpg',\n",
       " 'tf_files/tiny_imagenet/3/4885.jpg',\n",
       " 'tf_files/tiny_imagenet/3/25871.jpg',\n",
       " 'tf_files/tiny_imagenet/2/17212.jpg',\n",
       " 'tf_files/tiny_imagenet/2/1756.jpg',\n",
       " 'tf_files/tiny_imagenet/2/3586.jpg',\n",
       " 'tf_files/tiny_imagenet/2/15565.jpg',\n",
       " 'tf_files/tiny_imagenet/2/2904.jpg',\n",
       " 'tf_files/tiny_imagenet/2/20493.jpg',\n",
       " 'tf_files/tiny_imagenet/2/25636.jpg',\n",
       " 'tf_files/tiny_imagenet/2/15300.jpg',\n",
       " 'tf_files/tiny_imagenet/2/17861.jpg',\n",
       " 'tf_files/tiny_imagenet/2/3039.jpg',\n",
       " 'tf_files/tiny_imagenet/2/21853.jpg',\n",
       " 'tf_files/tiny_imagenet/2/11743.jpg',\n",
       " 'tf_files/tiny_imagenet/2/16833.jpg',\n",
       " 'tf_files/tiny_imagenet/5/8950.jpg',\n",
       " 'tf_files/tiny_imagenet/5/22420.jpg',\n",
       " 'tf_files/tiny_imagenet/5/16653.jpg',\n",
       " 'tf_files/tiny_imagenet/4/1513.jpg',\n",
       " 'tf_files/tiny_imagenet/7/11205.jpg',\n",
       " 'tf_files/tiny_imagenet/7/17760.jpg',\n",
       " 'tf_files/tiny_imagenet/6/5893.jpg',\n",
       " 'tf_files/tiny_imagenet/6/9684.jpg',\n",
       " 'tf_files/tiny_imagenet/6/19363.jpg',\n",
       " 'tf_files/tiny_imagenet/6/12670.jpg',\n",
       " 'tf_files/tiny_imagenet/6/9820.jpg',\n",
       " 'tf_files/tiny_imagenet/9/16175.jpg',\n",
       " 'tf_files/tiny_imagenet/9/1805.jpg',\n",
       " 'tf_files/tiny_imagenet/9/1763.jpg',\n",
       " 'tf_files/tiny_imagenet/8/16825.jpg',\n",
       " 'tf_files/tiny_imagenet/8/25684.jpg',\n",
       " 'tf_files/tiny_imagenet/8/19315.jpg',\n",
       " 'tf_files/tiny_imagenet/8/5989.jpg',\n",
       " 'tf_files/tiny_imagenet/13/7519.jpg',\n",
       " 'tf_files/tiny_imagenet/13/3737.jpg',\n",
       " 'tf_files/tiny_imagenet/13/15223.jpg',\n",
       " 'tf_files/tiny_imagenet/13/23218.jpg',\n",
       " 'tf_files/tiny_imagenet/13/9688.jpg',\n",
       " 'tf_files/tiny_imagenet/13/6552.jpg',\n",
       " 'tf_files/tiny_imagenet/13/8563.jpg',\n",
       " 'tf_files/tiny_imagenet/12/17671.jpg',\n",
       " 'tf_files/tiny_imagenet/12/18284.jpg',\n",
       " 'tf_files/tiny_imagenet/12/2300.jpg',\n",
       " 'tf_files/tiny_imagenet/12/5430.jpg',\n",
       " 'tf_files/tiny_imagenet/12/25119.jpg',\n",
       " 'tf_files/tiny_imagenet/12/19749.jpg',\n",
       " 'tf_files/tiny_imagenet/12/20011.jpg',\n",
       " 'tf_files/tiny_imagenet/12/12219.jpg',\n",
       " 'tf_files/tiny_imagenet/12/18691.jpg',\n",
       " 'tf_files/tiny_imagenet/11/12638.jpg',\n",
       " 'tf_files/tiny_imagenet/11/217.jpg',\n",
       " 'tf_files/tiny_imagenet/11/16036.jpg',\n",
       " 'tf_files/tiny_imagenet/11/14710.jpg',\n",
       " 'tf_files/tiny_imagenet/11/11319.jpg',\n",
       " 'tf_files/tiny_imagenet/11/19945.jpg',\n",
       " 'tf_files/tiny_imagenet/11/24497.jpg',\n",
       " 'tf_files/tiny_imagenet/11/24407.jpg',\n",
       " 'tf_files/tiny_imagenet/11/17788.jpg',\n",
       " 'tf_files/tiny_imagenet/11/20673.jpg',\n",
       " 'tf_files/tiny_imagenet/11/18707.jpg',\n",
       " 'tf_files/tiny_imagenet/11/19868.jpg',\n",
       " 'tf_files/tiny_imagenet/11/14051.jpg',\n",
       " 'tf_files/tiny_imagenet/11/7927.jpg',\n",
       " 'tf_files/tiny_imagenet/11/14436.jpg',\n",
       " 'tf_files/tiny_imagenet/11/15002.jpg',\n",
       " 'tf_files/tiny_imagenet/11/9498.jpg',\n",
       " 'tf_files/tiny_imagenet/11/26255.jpg',\n",
       " 'tf_files/tiny_imagenet/11/9809.jpg',\n",
       " 'tf_files/tiny_imagenet/10/13297.jpg',\n",
       " 'tf_files/tiny_imagenet/10/9402.jpg',\n",
       " 'tf_files/tiny_imagenet/10/16643.jpg',\n",
       " 'tf_files/tiny_imagenet/10/5335.jpg',\n",
       " 'tf_files/tiny_imagenet/10/2298.jpg',\n",
       " 'tf_files/tiny_imagenet/10/5011.jpg',\n",
       " 'tf_files/tiny_imagenet/10/20568.jpg',\n",
       " 'tf_files/tiny_imagenet/10/4259.jpg',\n",
       " 'tf_files/tiny_imagenet/39/6378.jpg',\n",
       " 'tf_files/tiny_imagenet/39/3037.jpg',\n",
       " 'tf_files/tiny_imagenet/38/17066.jpg',\n",
       " 'tf_files/tiny_imagenet/15/662.jpg',\n",
       " 'tf_files/tiny_imagenet/15/1242.jpg',\n",
       " 'tf_files/tiny_imagenet/14/10613.jpg',\n",
       " 'tf_files/tiny_imagenet/14/20855.jpg',\n",
       " 'tf_files/tiny_imagenet/14/23409.jpg',\n",
       " 'tf_files/tiny_imagenet/14/15046.jpg',\n",
       " 'tf_files/tiny_imagenet/14/10047.jpg',\n",
       " 'tf_files/tiny_imagenet/14/8866.jpg',\n",
       " 'tf_files/tiny_imagenet/17/2246.jpg',\n",
       " 'tf_files/tiny_imagenet/17/19434.jpg',\n",
       " 'tf_files/tiny_imagenet/17/2959.jpg',\n",
       " 'tf_files/tiny_imagenet/16/18919.jpg',\n",
       " 'tf_files/tiny_imagenet/16/4040.jpg',\n",
       " 'tf_files/tiny_imagenet/16/11380.jpg',\n",
       " 'tf_files/tiny_imagenet/16/4715.jpg',\n",
       " 'tf_files/tiny_imagenet/16/2949.jpg',\n",
       " 'tf_files/tiny_imagenet/33/25289.jpg',\n",
       " 'tf_files/tiny_imagenet/33/8406.jpg',\n",
       " 'tf_files/tiny_imagenet/33/10139.jpg',\n",
       " 'tf_files/tiny_imagenet/32/7644.jpg',\n",
       " 'tf_files/tiny_imagenet/32/6563.jpg',\n",
       " 'tf_files/tiny_imagenet/31/18240.jpg',\n",
       " 'tf_files/tiny_imagenet/31/879.jpg',\n",
       " 'tf_files/tiny_imagenet/31/10577.jpg',\n",
       " 'tf_files/tiny_imagenet/30/2934.jpg',\n",
       " 'tf_files/tiny_imagenet/30/7270.jpg',\n",
       " 'tf_files/tiny_imagenet/30/26270.jpg',\n",
       " 'tf_files/tiny_imagenet/30/8598.jpg',\n",
       " 'tf_files/tiny_imagenet/30/4600.jpg',\n",
       " 'tf_files/tiny_imagenet/30/15013.jpg',\n",
       " 'tf_files/tiny_imagenet/37/1044.jpg',\n",
       " 'tf_files/tiny_imagenet/36/24962.jpg',\n",
       " 'tf_files/tiny_imagenet/36/26222.jpg',\n",
       " 'tf_files/tiny_imagenet/36/16723.jpg',\n",
       " 'tf_files/tiny_imagenet/36/11443.jpg',\n",
       " 'tf_files/tiny_imagenet/35/13534.jpg',\n",
       " 'tf_files/tiny_imagenet/35/26287.jpg',\n",
       " 'tf_files/tiny_imagenet/35/26062.jpg',\n",
       " 'tf_files/tiny_imagenet/35/19218.jpg',\n",
       " 'tf_files/tiny_imagenet/34/22579.jpg',\n",
       " 'tf_files/tiny_imagenet/34/24976.jpg',\n",
       " 'tf_files/tiny_imagenet/34/2047.jpg',\n",
       " 'tf_files/tiny_imagenet/34/13576.jpg',\n",
       " 'tf_files/tiny_imagenet/19/9484.jpg',\n",
       " 'tf_files/tiny_imagenet/19/15979.jpg',\n",
       " 'tf_files/tiny_imagenet/19/17518.jpg',\n",
       " 'tf_files/tiny_imagenet/19/904.jpg',\n",
       " 'tf_files/tiny_imagenet/19/11462.jpg',\n",
       " 'tf_files/tiny_imagenet/19/25782.jpg',\n",
       " 'tf_files/tiny_imagenet/18/6212.jpg',\n",
       " 'tf_files/tiny_imagenet/18/9896.jpg',\n",
       " 'tf_files/tiny_imagenet/18/6428.jpg',\n",
       " 'tf_files/tiny_imagenet/18/16705.jpg',\n",
       " 'tf_files/tiny_imagenet/18/21950.jpg',\n",
       " 'tf_files/tiny_imagenet/18/25359.jpg',\n",
       " 'tf_files/tiny_imagenet/18/22099.jpg']"
      ]
     },
     "execution_count": 2,
     "metadata": {},
     "output_type": "execute_result"
    }
   ],
   "source": [
    "misclassified"
   ]
  },
  {
   "cell_type": "code",
   "execution_count": 3,
   "metadata": {
    "collapsed": false
   },
   "outputs": [
    {
     "ename": "FileNotFoundError",
     "evalue": "[Errno 2] No such file or directory: 'tf_files/tiny_imagenet/24/3147.jpg'",
     "output_type": "error",
     "traceback": [
      "\u001b[0;31m---------------------------------------------------------------------------\u001b[0m",
      "\u001b[0;31mFileNotFoundError\u001b[0m                         Traceback (most recent call last)",
      "\u001b[0;32m<ipython-input-3-74fb5fbde416>\u001b[0m in \u001b[0;36m<module>\u001b[0;34m()\u001b[0m\n\u001b[1;32m      3\u001b[0m \u001b[0;34m\u001b[0m\u001b[0m\n\u001b[1;32m      4\u001b[0m \u001b[0;32mfor\u001b[0m \u001b[0mimg\u001b[0m \u001b[0;32min\u001b[0m \u001b[0mmisclassified\u001b[0m\u001b[0;34m:\u001b[0m\u001b[0;34m\u001b[0m\u001b[0m\n\u001b[0;32m----> 5\u001b[0;31m     \u001b[0mimg\u001b[0m\u001b[0;34m=\u001b[0m\u001b[0mmpimg\u001b[0m\u001b[0;34m.\u001b[0m\u001b[0mimread\u001b[0m\u001b[0;34m(\u001b[0m\u001b[0mimg\u001b[0m\u001b[0;34m)\u001b[0m\u001b[0;34m\u001b[0m\u001b[0m\n\u001b[0m\u001b[1;32m      6\u001b[0m     \u001b[0mplt\u001b[0m\u001b[0;34m.\u001b[0m\u001b[0mimshow\u001b[0m\u001b[0;34m(\u001b[0m\u001b[0mimg\u001b[0m\u001b[0;34m)\u001b[0m\u001b[0;34m\u001b[0m\u001b[0m\n\u001b[1;32m      7\u001b[0m     \u001b[0mplt\u001b[0m\u001b[0;34m.\u001b[0m\u001b[0mshow\u001b[0m\u001b[0;34m(\u001b[0m\u001b[0;34m)\u001b[0m\u001b[0;34m\u001b[0m\u001b[0m\n",
      "\u001b[0;32m/Users/sorinmuchi/anaconda/lib/python3.6/site-packages/matplotlib/image.py\u001b[0m in \u001b[0;36mimread\u001b[0;34m(fname, format)\u001b[0m\n\u001b[1;32m   1225\u001b[0m \u001b[0;34m\u001b[0m\u001b[0m\n\u001b[1;32m   1226\u001b[0m     \u001b[0;32mif\u001b[0m \u001b[0mext\u001b[0m \u001b[0;32mnot\u001b[0m \u001b[0;32min\u001b[0m \u001b[0mhandlers\u001b[0m\u001b[0;34m:\u001b[0m\u001b[0;34m\u001b[0m\u001b[0m\n\u001b[0;32m-> 1227\u001b[0;31m         \u001b[0mim\u001b[0m \u001b[0;34m=\u001b[0m \u001b[0mpilread\u001b[0m\u001b[0;34m(\u001b[0m\u001b[0mfname\u001b[0m\u001b[0;34m)\u001b[0m\u001b[0;34m\u001b[0m\u001b[0m\n\u001b[0m\u001b[1;32m   1228\u001b[0m         \u001b[0;32mif\u001b[0m \u001b[0mim\u001b[0m \u001b[0;32mis\u001b[0m \u001b[0;32mNone\u001b[0m\u001b[0;34m:\u001b[0m\u001b[0;34m\u001b[0m\u001b[0m\n\u001b[1;32m   1229\u001b[0m             raise ValueError('Only know how to handle extensions: %s; '\n",
      "\u001b[0;32m/Users/sorinmuchi/anaconda/lib/python3.6/site-packages/matplotlib/image.py\u001b[0m in \u001b[0;36mpilread\u001b[0;34m(fname)\u001b[0m\n\u001b[1;32m   1203\u001b[0m         \u001b[0;32mexcept\u001b[0m \u001b[0mImportError\u001b[0m\u001b[0;34m:\u001b[0m\u001b[0;34m\u001b[0m\u001b[0m\n\u001b[1;32m   1204\u001b[0m             \u001b[0;32mreturn\u001b[0m \u001b[0;32mNone\u001b[0m\u001b[0;34m\u001b[0m\u001b[0m\n\u001b[0;32m-> 1205\u001b[0;31m         \u001b[0;32mwith\u001b[0m \u001b[0mImage\u001b[0m\u001b[0;34m.\u001b[0m\u001b[0mopen\u001b[0m\u001b[0;34m(\u001b[0m\u001b[0mfname\u001b[0m\u001b[0;34m)\u001b[0m \u001b[0;32mas\u001b[0m \u001b[0mimage\u001b[0m\u001b[0;34m:\u001b[0m\u001b[0;34m\u001b[0m\u001b[0m\n\u001b[0m\u001b[1;32m   1206\u001b[0m             \u001b[0;32mreturn\u001b[0m \u001b[0mpil_to_array\u001b[0m\u001b[0;34m(\u001b[0m\u001b[0mimage\u001b[0m\u001b[0;34m)\u001b[0m\u001b[0;34m\u001b[0m\u001b[0m\n\u001b[1;32m   1207\u001b[0m \u001b[0;34m\u001b[0m\u001b[0m\n",
      "\u001b[0;32m/Users/sorinmuchi/anaconda/lib/python3.6/site-packages/PIL/Image.py\u001b[0m in \u001b[0;36mopen\u001b[0;34m(fp, mode)\u001b[0m\n\u001b[1;32m   2310\u001b[0m \u001b[0;34m\u001b[0m\u001b[0m\n\u001b[1;32m   2311\u001b[0m     \u001b[0;32mif\u001b[0m \u001b[0mfilename\u001b[0m\u001b[0;34m:\u001b[0m\u001b[0;34m\u001b[0m\u001b[0m\n\u001b[0;32m-> 2312\u001b[0;31m         \u001b[0mfp\u001b[0m \u001b[0;34m=\u001b[0m \u001b[0mbuiltins\u001b[0m\u001b[0;34m.\u001b[0m\u001b[0mopen\u001b[0m\u001b[0;34m(\u001b[0m\u001b[0mfilename\u001b[0m\u001b[0;34m,\u001b[0m \u001b[0;34m\"rb\"\u001b[0m\u001b[0;34m)\u001b[0m\u001b[0;34m\u001b[0m\u001b[0m\n\u001b[0m\u001b[1;32m   2313\u001b[0m \u001b[0;34m\u001b[0m\u001b[0m\n\u001b[1;32m   2314\u001b[0m     \u001b[0;32mtry\u001b[0m\u001b[0;34m:\u001b[0m\u001b[0;34m\u001b[0m\u001b[0m\n",
      "\u001b[0;31mFileNotFoundError\u001b[0m: [Errno 2] No such file or directory: 'tf_files/tiny_imagenet/24/3147.jpg'"
     ]
    }
   ],
   "source": [
    "import matplotlib.image as mpimg\n",
    "from matplotlib import pyplot as plt\n",
    "\n",
    "for img in misclassified:\n",
    "    img=mpimg.imread(img)\n",
    "    plt.imshow(img)\n",
    "    plt.show()"
   ]
  },
  {
   "cell_type": "code",
   "execution_count": 4,
   "metadata": {
    "collapsed": false
   },
   "outputs": [],
   "source": [
    "import csv\n",
    "\n",
    "misclassified = []\n",
    "\n",
    "with open('missclassifiedR8k.ssv', newline='') as csvfile:\n",
    "    spamreader = csv.reader(csvfile, delimiter=' ', quotechar='|')\n",
    "    for row in spamreader:\n",
    "        misclassified.append(row[0])"
   ]
  },
  {
   "cell_type": "code",
   "execution_count": 5,
   "metadata": {
    "collapsed": false
   },
   "outputs": [
    {
     "ename": "FileNotFoundError",
     "evalue": "[Errno 2] No such file or directory: 'tf_files/tiny_imagenet/14/10047.jpg'",
     "output_type": "error",
     "traceback": [
      "\u001b[0;31m---------------------------------------------------------------------------\u001b[0m",
      "\u001b[0;31mFileNotFoundError\u001b[0m                         Traceback (most recent call last)",
      "\u001b[0;32m<ipython-input-5-74fb5fbde416>\u001b[0m in \u001b[0;36m<module>\u001b[0;34m()\u001b[0m\n\u001b[1;32m      3\u001b[0m \u001b[0;34m\u001b[0m\u001b[0m\n\u001b[1;32m      4\u001b[0m \u001b[0;32mfor\u001b[0m \u001b[0mimg\u001b[0m \u001b[0;32min\u001b[0m \u001b[0mmisclassified\u001b[0m\u001b[0;34m:\u001b[0m\u001b[0;34m\u001b[0m\u001b[0m\n\u001b[0;32m----> 5\u001b[0;31m     \u001b[0mimg\u001b[0m\u001b[0;34m=\u001b[0m\u001b[0mmpimg\u001b[0m\u001b[0;34m.\u001b[0m\u001b[0mimread\u001b[0m\u001b[0;34m(\u001b[0m\u001b[0mimg\u001b[0m\u001b[0;34m)\u001b[0m\u001b[0;34m\u001b[0m\u001b[0m\n\u001b[0m\u001b[1;32m      6\u001b[0m     \u001b[0mplt\u001b[0m\u001b[0;34m.\u001b[0m\u001b[0mimshow\u001b[0m\u001b[0;34m(\u001b[0m\u001b[0mimg\u001b[0m\u001b[0;34m)\u001b[0m\u001b[0;34m\u001b[0m\u001b[0m\n\u001b[1;32m      7\u001b[0m     \u001b[0mplt\u001b[0m\u001b[0;34m.\u001b[0m\u001b[0mshow\u001b[0m\u001b[0;34m(\u001b[0m\u001b[0;34m)\u001b[0m\u001b[0;34m\u001b[0m\u001b[0m\n",
      "\u001b[0;32m/Users/sorinmuchi/anaconda/lib/python3.6/site-packages/matplotlib/image.py\u001b[0m in \u001b[0;36mimread\u001b[0;34m(fname, format)\u001b[0m\n\u001b[1;32m   1225\u001b[0m \u001b[0;34m\u001b[0m\u001b[0m\n\u001b[1;32m   1226\u001b[0m     \u001b[0;32mif\u001b[0m \u001b[0mext\u001b[0m \u001b[0;32mnot\u001b[0m \u001b[0;32min\u001b[0m \u001b[0mhandlers\u001b[0m\u001b[0;34m:\u001b[0m\u001b[0;34m\u001b[0m\u001b[0m\n\u001b[0;32m-> 1227\u001b[0;31m         \u001b[0mim\u001b[0m \u001b[0;34m=\u001b[0m \u001b[0mpilread\u001b[0m\u001b[0;34m(\u001b[0m\u001b[0mfname\u001b[0m\u001b[0;34m)\u001b[0m\u001b[0;34m\u001b[0m\u001b[0m\n\u001b[0m\u001b[1;32m   1228\u001b[0m         \u001b[0;32mif\u001b[0m \u001b[0mim\u001b[0m \u001b[0;32mis\u001b[0m \u001b[0;32mNone\u001b[0m\u001b[0;34m:\u001b[0m\u001b[0;34m\u001b[0m\u001b[0m\n\u001b[1;32m   1229\u001b[0m             raise ValueError('Only know how to handle extensions: %s; '\n",
      "\u001b[0;32m/Users/sorinmuchi/anaconda/lib/python3.6/site-packages/matplotlib/image.py\u001b[0m in \u001b[0;36mpilread\u001b[0;34m(fname)\u001b[0m\n\u001b[1;32m   1203\u001b[0m         \u001b[0;32mexcept\u001b[0m \u001b[0mImportError\u001b[0m\u001b[0;34m:\u001b[0m\u001b[0;34m\u001b[0m\u001b[0m\n\u001b[1;32m   1204\u001b[0m             \u001b[0;32mreturn\u001b[0m \u001b[0;32mNone\u001b[0m\u001b[0;34m\u001b[0m\u001b[0m\n\u001b[0;32m-> 1205\u001b[0;31m         \u001b[0;32mwith\u001b[0m \u001b[0mImage\u001b[0m\u001b[0;34m.\u001b[0m\u001b[0mopen\u001b[0m\u001b[0;34m(\u001b[0m\u001b[0mfname\u001b[0m\u001b[0;34m)\u001b[0m \u001b[0;32mas\u001b[0m \u001b[0mimage\u001b[0m\u001b[0;34m:\u001b[0m\u001b[0;34m\u001b[0m\u001b[0m\n\u001b[0m\u001b[1;32m   1206\u001b[0m             \u001b[0;32mreturn\u001b[0m \u001b[0mpil_to_array\u001b[0m\u001b[0;34m(\u001b[0m\u001b[0mimage\u001b[0m\u001b[0;34m)\u001b[0m\u001b[0;34m\u001b[0m\u001b[0m\n\u001b[1;32m   1207\u001b[0m \u001b[0;34m\u001b[0m\u001b[0m\n",
      "\u001b[0;32m/Users/sorinmuchi/anaconda/lib/python3.6/site-packages/PIL/Image.py\u001b[0m in \u001b[0;36mopen\u001b[0;34m(fp, mode)\u001b[0m\n\u001b[1;32m   2310\u001b[0m \u001b[0;34m\u001b[0m\u001b[0m\n\u001b[1;32m   2311\u001b[0m     \u001b[0;32mif\u001b[0m \u001b[0mfilename\u001b[0m\u001b[0;34m:\u001b[0m\u001b[0;34m\u001b[0m\u001b[0m\n\u001b[0;32m-> 2312\u001b[0;31m         \u001b[0mfp\u001b[0m \u001b[0;34m=\u001b[0m \u001b[0mbuiltins\u001b[0m\u001b[0;34m.\u001b[0m\u001b[0mopen\u001b[0m\u001b[0;34m(\u001b[0m\u001b[0mfilename\u001b[0m\u001b[0;34m,\u001b[0m \u001b[0;34m\"rb\"\u001b[0m\u001b[0;34m)\u001b[0m\u001b[0;34m\u001b[0m\u001b[0m\n\u001b[0m\u001b[1;32m   2313\u001b[0m \u001b[0;34m\u001b[0m\u001b[0m\n\u001b[1;32m   2314\u001b[0m     \u001b[0;32mtry\u001b[0m\u001b[0;34m:\u001b[0m\u001b[0;34m\u001b[0m\u001b[0m\n",
      "\u001b[0;31mFileNotFoundError\u001b[0m: [Errno 2] No such file or directory: 'tf_files/tiny_imagenet/14/10047.jpg'"
     ]
    }
   ],
   "source": [
    "import matplotlib.image as mpimg\n",
    "from matplotlib import pyplot as plt\n",
    "\n",
    "for img in misclassified:\n",
    "    img=mpimg.imread(img)\n",
    "    plt.imshow(img)\n",
    "    plt.show()"
   ]
  },
  {
   "cell_type": "code",
   "execution_count": 6,
   "metadata": {
    "collapsed": false
   },
   "outputs": [],
   "source": [
    "classes = []\n",
    "for path in misclassified:\n",
    "    classes.append(int(path[23:25]))"
   ]
  },
  {
   "cell_type": "code",
   "execution_count": 7,
   "metadata": {
    "collapsed": false
   },
   "outputs": [],
   "source": [
    "classes.sort()"
   ]
  },
  {
   "cell_type": "code",
   "execution_count": 8,
   "metadata": {
    "collapsed": false
   },
   "outputs": [
    {
     "data": {
      "text/plain": [
       "[14,\n",
       " 16,\n",
       " 16,\n",
       " 16,\n",
       " 16,\n",
       " 17,\n",
       " 17,\n",
       " 17,\n",
       " 18,\n",
       " 18,\n",
       " 18,\n",
       " 18,\n",
       " 18,\n",
       " 19,\n",
       " 19,\n",
       " 19,\n",
       " 19,\n",
       " 19,\n",
       " 30,\n",
       " 30,\n",
       " 30,\n",
       " 30,\n",
       " 30,\n",
       " 31,\n",
       " 31,\n",
       " 31,\n",
       " 32,\n",
       " 32,\n",
       " 32,\n",
       " 33,\n",
       " 33,\n",
       " 33,\n",
       " 34,\n",
       " 34,\n",
       " 34,\n",
       " 34,\n",
       " 35,\n",
       " 35,\n",
       " 35,\n",
       " 35,\n",
       " 36,\n",
       " 36,\n",
       " 36,\n",
       " 36,\n",
       " 37]"
      ]
     },
     "execution_count": 8,
     "metadata": {},
     "output_type": "execute_result"
    }
   ],
   "source": [
    "classes"
   ]
  },
  {
   "cell_type": "code",
   "execution_count": 9,
   "metadata": {
    "collapsed": false
   },
   "outputs": [
    {
     "ename": "AttributeError",
     "evalue": "'list' object has no attribute 'hist'",
     "output_type": "error",
     "traceback": [
      "\u001b[0;31m---------------------------------------------------------------------------\u001b[0m",
      "\u001b[0;31mAttributeError\u001b[0m                            Traceback (most recent call last)",
      "\u001b[0;32m<ipython-input-9-d614108711a5>\u001b[0m in \u001b[0;36m<module>\u001b[0;34m()\u001b[0m\n\u001b[0;32m----> 1\u001b[0;31m \u001b[0mclasses\u001b[0m\u001b[0;34m.\u001b[0m\u001b[0mhist\u001b[0m\u001b[0;34m(\u001b[0m\u001b[0;34m)\u001b[0m\u001b[0;34m\u001b[0m\u001b[0m\n\u001b[0m",
      "\u001b[0;31mAttributeError\u001b[0m: 'list' object has no attribute 'hist'"
     ]
    }
   ],
   "source": [
    "classes.hist()"
   ]
  },
  {
   "cell_type": "code",
   "execution_count": null,
   "metadata": {
    "collapsed": true
   },
   "outputs": [],
   "source": []
  },
  {
   "cell_type": "code",
   "execution_count": null,
   "metadata": {
    "collapsed": true
   },
   "outputs": [],
   "source": []
  },
  {
   "cell_type": "code",
   "execution_count": null,
   "metadata": {
    "collapsed": true
   },
   "outputs": [],
   "source": []
  },
  {
   "cell_type": "code",
   "execution_count": null,
   "metadata": {
    "collapsed": true
   },
   "outputs": [],
   "source": []
  },
  {
   "cell_type": "code",
   "execution_count": null,
   "metadata": {
    "collapsed": true
   },
   "outputs": [],
   "source": []
  },
  {
   "cell_type": "code",
   "execution_count": null,
   "metadata": {
    "collapsed": true
   },
   "outputs": [],
   "source": []
  },
  {
   "cell_type": "code",
   "execution_count": null,
   "metadata": {
    "collapsed": true
   },
   "outputs": [],
   "source": []
  },
  {
   "cell_type": "code",
   "execution_count": null,
   "metadata": {
    "collapsed": true
   },
   "outputs": [],
   "source": []
  },
  {
   "cell_type": "code",
   "execution_count": null,
   "metadata": {
    "collapsed": true
   },
   "outputs": [],
   "source": []
  },
  {
   "cell_type": "code",
   "execution_count": null,
   "metadata": {
    "collapsed": true
   },
   "outputs": [],
   "source": []
  },
  {
   "cell_type": "code",
   "execution_count": null,
   "metadata": {
    "collapsed": true
   },
   "outputs": [],
   "source": []
  },
  {
   "cell_type": "code",
   "execution_count": null,
   "metadata": {
    "collapsed": true
   },
   "outputs": [],
   "source": []
  },
  {
   "cell_type": "code",
   "execution_count": null,
   "metadata": {
    "collapsed": true
   },
   "outputs": [],
   "source": []
  },
  {
   "cell_type": "code",
   "execution_count": null,
   "metadata": {
    "collapsed": true
   },
   "outputs": [],
   "source": []
  },
  {
   "cell_type": "code",
   "execution_count": null,
   "metadata": {
    "collapsed": true
   },
   "outputs": [],
   "source": []
  },
  {
   "cell_type": "code",
   "execution_count": null,
   "metadata": {
    "collapsed": true
   },
   "outputs": [],
   "source": []
  },
  {
   "cell_type": "code",
   "execution_count": null,
   "metadata": {
    "collapsed": true
   },
   "outputs": [],
   "source": []
  },
  {
   "cell_type": "code",
   "execution_count": null,
   "metadata": {
    "collapsed": true
   },
   "outputs": [],
   "source": []
  },
  {
   "cell_type": "code",
   "execution_count": null,
   "metadata": {
    "collapsed": true
   },
   "outputs": [],
   "source": []
  },
  {
   "cell_type": "code",
   "execution_count": null,
   "metadata": {
    "collapsed": true
   },
   "outputs": [],
   "source": []
  },
  {
   "cell_type": "code",
   "execution_count": null,
   "metadata": {
    "collapsed": true
   },
   "outputs": [],
   "source": []
  },
  {
   "cell_type": "code",
   "execution_count": null,
   "metadata": {
    "collapsed": true
   },
   "outputs": [],
   "source": []
  },
  {
   "cell_type": "code",
   "execution_count": null,
   "metadata": {
    "collapsed": true
   },
   "outputs": [],
   "source": []
  },
  {
   "cell_type": "code",
   "execution_count": null,
   "metadata": {
    "collapsed": true
   },
   "outputs": [],
   "source": []
  },
  {
   "cell_type": "code",
   "execution_count": null,
   "metadata": {
    "collapsed": true
   },
   "outputs": [],
   "source": []
  },
  {
   "cell_type": "code",
   "execution_count": null,
   "metadata": {
    "collapsed": true
   },
   "outputs": [],
   "source": []
  },
  {
   "cell_type": "code",
   "execution_count": null,
   "metadata": {
    "collapsed": true
   },
   "outputs": [],
   "source": []
  },
  {
   "cell_type": "code",
   "execution_count": null,
   "metadata": {
    "collapsed": true
   },
   "outputs": [],
   "source": []
  },
  {
   "cell_type": "code",
   "execution_count": null,
   "metadata": {
    "collapsed": true
   },
   "outputs": [],
   "source": []
  },
  {
   "cell_type": "code",
   "execution_count": null,
   "metadata": {
    "collapsed": true
   },
   "outputs": [],
   "source": []
  },
  {
   "cell_type": "code",
   "execution_count": null,
   "metadata": {
    "collapsed": true
   },
   "outputs": [],
   "source": []
  }
 ],
 "metadata": {
  "kernelspec": {
   "display_name": "Python 3",
   "language": "python",
   "name": "python3"
  },
  "language_info": {
   "codemirror_mode": {
    "name": "ipython",
    "version": 3
   },
   "file_extension": ".py",
   "mimetype": "text/x-python",
   "name": "python",
   "nbconvert_exporter": "python",
   "pygments_lexer": "ipython3",
   "version": "3.6.0"
  }
 },
 "nbformat": 4,
 "nbformat_minor": 2
}
